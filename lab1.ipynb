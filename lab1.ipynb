{
 "cells": [
  {
   "cell_type": "code",
   "execution_count": 1,
   "metadata": {},
   "outputs": [
    {
     "name": "stdout",
     "output_type": "stream",
     "text": [
      "Number of vowels: 5\n",
      "Number of consonants: 6\n"
     ]
    }
   ],
   "source": [
    "def count_vowels_consonants(string1):\n",
    "    vowels = \"aeiou\"\n",
    "    cons_count = 0\n",
    "    vowel_count = 0\n",
    "\n",
    "    for char in string1:\n",
    "        if char.isalpha():\n",
    "            if char in vowels:\n",
    "                vowel_count += 1\n",
    "            else:\n",
    "                cons_count += 1\n",
    "\n",
    "    print(\"Number of vowels:\", vowel_count)\n",
    "    print(\"Number of consonants:\", cons_count)\n",
    "\n",
    "# Get input from user\n",
    "string1 = input(\"Enter a string: \")\n",
    "count_vowels_consonants(string1)"
   ]
  },
  {
   "cell_type": "code",
   "execution_count": 2,
   "metadata": {},
   "outputs": [
    {
     "name": "stdout",
     "output_type": "stream",
     "text": [
      "the product is : [[46, 73, 45], [52, 81, 67]]\n"
     ]
    }
   ],
   "source": [
    "def mat_mult(A,B):\n",
    "    \n",
    "    if len(A[0])!=len(B):\n",
    "        print(\"matrices arenot multipliable\")\n",
    "\n",
    "    result = [[0 for _ in range(len(B[0]))] for _ in range(len(A))]    \n",
    "              \n",
    "    for i in range(len(A)):\n",
    "      for j in range(len(B[0])):\n",
    "            for k in range(len(B)):\n",
    "                result[i][j]+=A[i][k]*B[k][j]\n",
    "\n",
    "    return result\n",
    "\n",
    "\n",
    "A=[\n",
    "    [2,3,4],\n",
    "    [5,4,3]\n",
    "]\n",
    "\n",
    "B=[\n",
    "    [1,5,6],\n",
    "    [8,5,7],\n",
    "    [5,12,3]\n",
    "]\n",
    "\n",
    "result=mat_mult(A,B)\n",
    "print(\"the product is :\",result)\n",
    "                   \n",
    "  "
   ]
  },
  {
   "cell_type": "code",
   "execution_count": 3,
   "metadata": {},
   "outputs": [
    {
     "name": "stdout",
     "output_type": "stream",
     "text": [
      "the common elements are: [6, 3]\n"
     ]
    }
   ],
   "source": [
    "def common_element(l1,l2):\n",
    "    common = []\n",
    "\n",
    "    for element in l1:\n",
    "        if element in l2 and element not in common:\n",
    "         common.append(element)\n",
    "\n",
    "    return common\n",
    "\n",
    "l1=[5,6,7,3,4]\n",
    "l2=[3,6,8,9,1]\n",
    "\n",
    "common = common_element(l1,l2)\n",
    "print(\"the common elements are:\",common)\n",
    "\n"
   ]
  },
  {
   "cell_type": "code",
   "execution_count": 4,
   "metadata": {},
   "outputs": [
    {
     "name": "stdout",
     "output_type": "stream",
     "text": [
      "the transposed matrix is:\n",
      "[1, 9, 5]\n",
      "[4, 6, 2]\n",
      "[6, 2, 6]\n"
     ]
    }
   ],
   "source": [
    "def transpose(A):\n",
    "    rows=len(A)\n",
    "    cols=len(A[0])\n",
    "\n",
    "    transpose_matrix=[[0 for _ in range (rows)] for _ in range (cols) ]\n",
    "\n",
    "    for i in range(rows):\n",
    "        for j in range(cols):\n",
    "            transpose_matrix[j][i] = A[i][j]\n",
    "\n",
    "    return transpose_matrix\n",
    "\n",
    "A=[\n",
    "    [1,4,6],\n",
    "    [9,6,2],\n",
    "    [5,2,6]\n",
    "]\n",
    "\n",
    "transpose_matrix = transpose(A)\n",
    "print(\"the transposed matrix is:\")\n",
    "for row in transpose_matrix:\n",
    " print(row)\n"
   ]
  }
 ],
 "metadata": {
  "kernelspec": {
   "display_name": "Python 3",
   "language": "python",
   "name": "python3"
  },
  "language_info": {
   "codemirror_mode": {
    "name": "ipython",
    "version": 3
   },
   "file_extension": ".py",
   "mimetype": "text/x-python",
   "name": "python",
   "nbconvert_exporter": "python",
   "pygments_lexer": "ipython3",
   "version": "3.12.4"
  }
 },
 "nbformat": 4,
 "nbformat_minor": 2
}
